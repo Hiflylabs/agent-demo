{
 "cells": [
  {
   "cell_type": "code",
   "execution_count": null,
   "metadata": {},
   "outputs": [],
   "source": [
    "import os\n",
    "import tiktoken\n",
    "from dotenv import load_dotenv\n",
    "from tavily import TavilyClient\n",
    "from azure.core.credentials import AzureKeyCredential\n",
    "from azure.search.documents import SearchClient\n",
    "from llama_index.core.agent import ReActAgent\n",
    "from llama_index.core.callbacks import (\n",
    "    CallbackManager,\n",
    "    TokenCountingHandler,\n",
    "    LlamaDebugHandler,\n",
    ")\n",
    "from llama_index.core.memory import ChatMemoryBuffer\n",
    "from llama_index.core.tools import FunctionTool\n",
    "from llama_index.core import Settings\n",
    "from llama_index.llms.azure_openai import AzureOpenAI\n",
    "from utils.search import search_web_tool\n",
    "from utils.retrieval import retrieval_tool\n",
    "\n",
    "# Load environment variables\n",
    "load_dotenv()"
   ]
  },
  {
   "cell_type": "markdown",
   "metadata": {},
   "source": [
    "# Set up OpenAI and Tavily clients"
   ]
  },
  {
   "cell_type": "code",
   "execution_count": 2,
   "metadata": {},
   "outputs": [],
   "source": [
    "gpt4o_client = AzureOpenAI(\n",
    "    model=os.getenv(\"AZURE_OPENAI_MODEL\"),\n",
    "    deployment_name=os.getenv(\"AZURE_OPENAI_DEPLOYMENT_NAME\"),\n",
    "    api_key=os.getenv(\"AZURE_OPENAI_API_KEY\"),\n",
    "    api_version=os.getenv(\"AZURE_OPENAI_VERSION\"),\n",
    "    azure_endpoint=os.getenv(\"AZURE_OPENAI_GPOT4O_ENDPOINT\"),\n",
    "    temperature=os.getenv(\"AZURE_OPENAI_TEMPERATURE\"),\n",
    ")"
   ]
  },
  {
   "cell_type": "code",
   "execution_count": 3,
   "metadata": {},
   "outputs": [],
   "source": [
    "tavily = TavilyClient(api_key=os.getenv(\"TAVILY_API_KEY\"))"
   ]
  },
  {
   "cell_type": "markdown",
   "metadata": {},
   "source": [
    "# Set up Search client"
   ]
  },
  {
   "cell_type": "code",
   "execution_count": 4,
   "metadata": {},
   "outputs": [],
   "source": [
    "search_client = SearchClient(\n",
    "    endpoint=os.getenv(\"AI_SEARCH_ENDPOINT\"),\n",
    "    index_name=os.getenv(\"INDEX_NAME\"),\n",
    "    credential=AzureKeyCredential(os.getenv(\"AI_SEARCH_API_KEY\")),\n",
    ")"
   ]
  },
  {
   "cell_type": "markdown",
   "metadata": {},
   "source": [
    "# Set up default model for Llama index"
   ]
  },
  {
   "cell_type": "code",
   "execution_count": 5,
   "metadata": {},
   "outputs": [],
   "source": [
    "Settings.llm = gpt4o_client"
   ]
  },
  {
   "cell_type": "markdown",
   "metadata": {},
   "source": [
    "# Initialize memory buffer and callback manager"
   ]
  },
  {
   "cell_type": "code",
   "execution_count": 6,
   "metadata": {},
   "outputs": [],
   "source": [
    "token_counter = TokenCountingHandler(tokenizer=tiktoken.encoding_for_model(os.getenv(\"AZURE_OPENAI_MODEL\")).encode, verbose=True)\n",
    "llama_debug = LlamaDebugHandler(print_trace_on_end=True)\n",
    "\n",
    "callback_manager = CallbackManager([token_counter, llama_debug])\n",
    "\n",
    "chat_memory = ChatMemoryBuffer(token_limit=32000, )"
   ]
  },
  {
   "cell_type": "markdown",
   "metadata": {},
   "source": [
    "# Set up tools"
   ]
  },
  {
   "cell_type": "code",
   "execution_count": 7,
   "metadata": {},
   "outputs": [],
   "source": [
    "search_tool = FunctionTool.from_defaults(\n",
    "    name=\"search_tool\",\n",
    "    description=\"Search the web for additional information when required.\",\n",
    "    fn= lambda query: search_web_tool(query=query, tavily=tavily)\n",
    ")\n"
   ]
  },
  {
   "cell_type": "code",
   "execution_count": 8,
   "metadata": {},
   "outputs": [],
   "source": [
    "retriever_tool = FunctionTool.from_defaults(\n",
    "    name=\"retrieval_tool\",\n",
    "    description=\"Search the Azure Cognitive Search for additional information when the topic is Tesla's risk or revenue forecast\",\n",
    "    fn= lambda query: retrieval_tool(query=query, search_client=search_client, gpt_client=gpt4o_client),\n",
    ")"
   ]
  },
  {
   "cell_type": "markdown",
   "metadata": {},
   "source": [
    "# Set up ReAct Agent"
   ]
  },
  {
   "cell_type": "code",
   "execution_count": 9,
   "metadata": {},
   "outputs": [],
   "source": [
    "agent = ReActAgent.from_tools(\n",
    "    llm=gpt4o_client,\n",
    "    tools=[search_tool, retriever_tool],\n",
    "    #memory=chat_memory,\n",
    "    callback_manager=callback_manager,\n",
    "    verbose=True,\n",
    "    max_iterations=10\n",
    ")"
   ]
  },
  {
   "cell_type": "code",
   "execution_count": 12,
   "metadata": {},
   "outputs": [],
   "source": [
    "# Reset agent if new session is required\n",
    "agent.reset()"
   ]
  },
  {
   "cell_type": "markdown",
   "metadata": {},
   "source": [
    "# Interact with the agent"
   ]
  },
  {
   "cell_type": "code",
   "execution_count": null,
   "metadata": {},
   "outputs": [],
   "source": [
    "response = agent.chat(\"what are the main risks Tesla is facing?\")\n",
    "print(response)"
   ]
  },
  {
   "cell_type": "code",
   "execution_count": null,
   "metadata": {},
   "outputs": [],
   "source": []
  }
 ],
 "metadata": {
  "kernelspec": {
   "display_name": "agent_demo",
   "language": "python",
   "name": "python3"
  },
  "language_info": {
   "codemirror_mode": {
    "name": "ipython",
    "version": 3
   },
   "file_extension": ".py",
   "mimetype": "text/x-python",
   "name": "python",
   "nbconvert_exporter": "python",
   "pygments_lexer": "ipython3",
   "version": "3.11.9"
  }
 },
 "nbformat": 4,
 "nbformat_minor": 2
}
